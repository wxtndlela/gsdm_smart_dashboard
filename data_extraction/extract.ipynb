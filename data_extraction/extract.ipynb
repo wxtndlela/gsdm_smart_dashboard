{
  "cells": [
    {
      "cell_type": "code",
      "execution_count": null,
      "metadata": {},
      "outputs": [],
      "source": [
        "#!pip install geopandas"
      ]
    },
    {
      "cell_type": "code",
      "execution_count": 1,
      "metadata": {
        "colab": {
          "base_uri": "https://localhost:8080/"
        },
        "id": "wbvMlHd_QwMG",
        "outputId": "0f9ee467-cea4-48e8-9050-7a76ae1b6141"
      },
      "outputs": [],
      "source": [
        "import geopandas as gpd"
      ]
    },
    {
      "cell_type": "code",
      "execution_count": 2,
      "metadata": {},
      "outputs": [],
      "source": [
        "gdf = gpd.read_file(\"Dipaleseng_Data_Block.shp\")\n",
        "\n",
        "dbf_data = gpd.read_file(\"Dipaleseng_Data_Block.dbf\")\n",
        "\n",
        "shx_data = gpd.read_file(\"Dipaleseng_Data_Block.shx\")\n",
        "\n",
        "with open('Dipaleseng_Data_Block.prj', 'r') as prj_file:\n",
        "    prj_data = prj_file.read()"
      ]
    },
    {
      "cell_type": "code",
      "execution_count": 3,
      "metadata": {},
      "outputs": [
        {
          "data": {
            "text/plain": [
              "['objectid',\n",
              " 'road_id',\n",
              " 'name',\n",
              " 'route_seq',\n",
              " 'start_km',\n",
              " 'end_km',\n",
              " 'munic',\n",
              " 'road_len',\n",
              " 'globalid_1',\n",
              " 'st_length_',\n",
              " 'geometry']"
            ]
          },
          "execution_count": 3,
          "metadata": {},
          "output_type": "execute_result"
        }
      ],
      "source": [
        "gdf_col_names = gdf.columns.tolist()\n",
        "gdf_col_names"
      ]
    },
    {
      "cell_type": "code",
      "execution_count": 4,
      "metadata": {},
      "outputs": [
        {
          "data": {
            "text/plain": [
              "1261"
            ]
          },
          "execution_count": 4,
          "metadata": {},
          "output_type": "execute_result"
        }
      ],
      "source": [
        "gdf.shape[0]"
      ]
    },
    {
      "cell_type": "code",
      "execution_count": 6,
      "metadata": {},
      "outputs": [
        {
          "data": {
            "text/html": [
              "<div>\n",
              "<style scoped>\n",
              "    .dataframe tbody tr th:only-of-type {\n",
              "        vertical-align: middle;\n",
              "    }\n",
              "\n",
              "    .dataframe tbody tr th {\n",
              "        vertical-align: top;\n",
              "    }\n",
              "\n",
              "    .dataframe thead th {\n",
              "        text-align: right;\n",
              "    }\n",
              "</style>\n",
              "<table border=\"1\" class=\"dataframe\">\n",
              "  <thead>\n",
              "    <tr style=\"text-align: right;\">\n",
              "      <th></th>\n",
              "      <th>objectid</th>\n",
              "      <th>road_id</th>\n",
              "      <th>name</th>\n",
              "      <th>route_seq</th>\n",
              "      <th>start_km</th>\n",
              "      <th>end_km</th>\n",
              "      <th>munic</th>\n",
              "      <th>road_len</th>\n",
              "      <th>globalid_1</th>\n",
              "      <th>st_length_</th>\n",
              "      <th>geometry</th>\n",
              "    </tr>\n",
              "  </thead>\n",
              "  <tbody>\n",
              "    <tr>\n",
              "      <th>0</th>\n",
              "      <td>418</td>\n",
              "      <td>MPGSDI00363706</td>\n",
              "      <td>NaN</td>\n",
              "      <td>6</td>\n",
              "      <td>1.304</td>\n",
              "      <td>1.482</td>\n",
              "      <td>MP306</td>\n",
              "      <td>0.178</td>\n",
              "      <td>{3A4ACF3F-64AD-4352-94F1-B496F7CC5B33}</td>\n",
              "      <td>0.001777</td>\n",
              "      <td>LINESTRING (28.58912 -26.67238, 28.58983 -26.6...</td>\n",
              "    </tr>\n",
              "    <tr>\n",
              "      <th>1</th>\n",
              "      <td>835</td>\n",
              "      <td>MPGSDI00394501</td>\n",
              "      <td>NaN</td>\n",
              "      <td>1</td>\n",
              "      <td>0.000</td>\n",
              "      <td>0.046</td>\n",
              "      <td>MP306</td>\n",
              "      <td>0.046</td>\n",
              "      <td>{A89D9FD5-2B06-4D2C-9B97-CC12933DC33E}</td>\n",
              "      <td>0.000413</td>\n",
              "      <td>LINESTRING (28.61691 -26.64753, 28.61691 -26.6...</td>\n",
              "    </tr>\n",
              "    <tr>\n",
              "      <th>2</th>\n",
              "      <td>539</td>\n",
              "      <td>MPGSDI00370708</td>\n",
              "      <td>NaN</td>\n",
              "      <td>8</td>\n",
              "      <td>0.272</td>\n",
              "      <td>0.314</td>\n",
              "      <td>MP306</td>\n",
              "      <td>0.042</td>\n",
              "      <td>{73F5F441-B1A7-41EE-B3A0-C17474639C2C}</td>\n",
              "      <td>0.000417</td>\n",
              "      <td>LINESTRING (28.50106 -26.79675, 28.50065 -26.7...</td>\n",
              "    </tr>\n",
              "    <tr>\n",
              "      <th>3</th>\n",
              "      <td>652</td>\n",
              "      <td>MPGSDI00384401</td>\n",
              "      <td>Intshe Crescent</td>\n",
              "      <td>1</td>\n",
              "      <td>0.000</td>\n",
              "      <td>0.051</td>\n",
              "      <td>MP306</td>\n",
              "      <td>0.051</td>\n",
              "      <td>{E3B418FD-0AD1-4B54-9C02-87B3401EFB25}</td>\n",
              "      <td>0.000514</td>\n",
              "      <td>LINESTRING (28.61367 -26.65844, 28.61417 -26.6...</td>\n",
              "    </tr>\n",
              "    <tr>\n",
              "      <th>4</th>\n",
              "      <td>273</td>\n",
              "      <td>MPGSDI00388802</td>\n",
              "      <td>NaN</td>\n",
              "      <td>2</td>\n",
              "      <td>0.269</td>\n",
              "      <td>0.318</td>\n",
              "      <td>MP306</td>\n",
              "      <td>0.049</td>\n",
              "      <td>{684C8E4B-6B73-4B6D-AE72-D9AC4BD1114C}</td>\n",
              "      <td>0.000488</td>\n",
              "      <td>LINESTRING (28.61794 -26.63961, 28.61840 -26.6...</td>\n",
              "    </tr>\n",
              "    <tr>\n",
              "      <th>...</th>\n",
              "      <td>...</td>\n",
              "      <td>...</td>\n",
              "      <td>...</td>\n",
              "      <td>...</td>\n",
              "      <td>...</td>\n",
              "      <td>...</td>\n",
              "      <td>...</td>\n",
              "      <td>...</td>\n",
              "      <td>...</td>\n",
              "      <td>...</td>\n",
              "      <td>...</td>\n",
              "    </tr>\n",
              "    <tr>\n",
              "      <th>1256</th>\n",
              "      <td>64</td>\n",
              "      <td>MPGSDI00389306</td>\n",
              "      <td>NaN</td>\n",
              "      <td>6</td>\n",
              "      <td>0.560</td>\n",
              "      <td>0.683</td>\n",
              "      <td>MP306</td>\n",
              "      <td>0.123</td>\n",
              "      <td>{E16D6B27-2528-4129-A5E9-5AC1FAF8889D}</td>\n",
              "      <td>0.001125</td>\n",
              "      <td>LINESTRING (28.61402 -26.64802, 28.61387 -26.6...</td>\n",
              "    </tr>\n",
              "    <tr>\n",
              "      <th>1257</th>\n",
              "      <td>55</td>\n",
              "      <td>MPGSDI00388307</td>\n",
              "      <td>NaN</td>\n",
              "      <td>7</td>\n",
              "      <td>0.518</td>\n",
              "      <td>0.571</td>\n",
              "      <td>MP306</td>\n",
              "      <td>0.053</td>\n",
              "      <td>{D6110E88-C1E6-4187-9AF2-61E8C89A7664}</td>\n",
              "      <td>0.000480</td>\n",
              "      <td>LINESTRING (28.61919 -26.64839, 28.61913 -26.6...</td>\n",
              "    </tr>\n",
              "    <tr>\n",
              "      <th>1258</th>\n",
              "      <td>148</td>\n",
              "      <td>MPGSDI00391904</td>\n",
              "      <td>NaN</td>\n",
              "      <td>4</td>\n",
              "      <td>0.326</td>\n",
              "      <td>0.389</td>\n",
              "      <td>MP306</td>\n",
              "      <td>0.063</td>\n",
              "      <td>{1CB7FA8E-C20A-45EE-B1CA-4DFC339F4C41}</td>\n",
              "      <td>0.000621</td>\n",
              "      <td>LINESTRING (28.61640 -26.64702, 28.61583 -26.6...</td>\n",
              "    </tr>\n",
              "    <tr>\n",
              "      <th>1259</th>\n",
              "      <td>790</td>\n",
              "      <td>MPGSDI00400002</td>\n",
              "      <td>Radebe Street</td>\n",
              "      <td>2</td>\n",
              "      <td>0.310</td>\n",
              "      <td>0.427</td>\n",
              "      <td>MP306</td>\n",
              "      <td>0.117</td>\n",
              "      <td>{4E64D19F-54BD-47E5-8F68-C55F2819280B}</td>\n",
              "      <td>0.001063</td>\n",
              "      <td>LINESTRING (28.60885 -26.65049, 28.60901 -26.6...</td>\n",
              "    </tr>\n",
              "    <tr>\n",
              "      <th>1260</th>\n",
              "      <td>828</td>\n",
              "      <td>MPGSDI00384911</td>\n",
              "      <td>Lefokotsane Street</td>\n",
              "      <td>11</td>\n",
              "      <td>0.764</td>\n",
              "      <td>0.821</td>\n",
              "      <td>MP306</td>\n",
              "      <td>0.057</td>\n",
              "      <td>{CAD7A289-E052-4F21-9BFD-69D781919314}</td>\n",
              "      <td>0.000542</td>\n",
              "      <td>LINESTRING (28.61609 -26.65215, 28.61618 -26.6...</td>\n",
              "    </tr>\n",
              "  </tbody>\n",
              "</table>\n",
              "<p>1261 rows × 11 columns</p>\n",
              "</div>"
            ],
            "text/plain": [
              "      objectid         road_id                name  route_seq  start_km  \\\n",
              "0          418  MPGSDI00363706                 NaN          6     1.304   \n",
              "1          835  MPGSDI00394501                 NaN          1     0.000   \n",
              "2          539  MPGSDI00370708                 NaN          8     0.272   \n",
              "3          652  MPGSDI00384401     Intshe Crescent          1     0.000   \n",
              "4          273  MPGSDI00388802                 NaN          2     0.269   \n",
              "...        ...             ...                 ...        ...       ...   \n",
              "1256        64  MPGSDI00389306                 NaN          6     0.560   \n",
              "1257        55  MPGSDI00388307                 NaN          7     0.518   \n",
              "1258       148  MPGSDI00391904                 NaN          4     0.326   \n",
              "1259       790  MPGSDI00400002       Radebe Street          2     0.310   \n",
              "1260       828  MPGSDI00384911  Lefokotsane Street         11     0.764   \n",
              "\n",
              "      end_km  munic  road_len                              globalid_1  \\\n",
              "0      1.482  MP306     0.178  {3A4ACF3F-64AD-4352-94F1-B496F7CC5B33}   \n",
              "1      0.046  MP306     0.046  {A89D9FD5-2B06-4D2C-9B97-CC12933DC33E}   \n",
              "2      0.314  MP306     0.042  {73F5F441-B1A7-41EE-B3A0-C17474639C2C}   \n",
              "3      0.051  MP306     0.051  {E3B418FD-0AD1-4B54-9C02-87B3401EFB25}   \n",
              "4      0.318  MP306     0.049  {684C8E4B-6B73-4B6D-AE72-D9AC4BD1114C}   \n",
              "...      ...    ...       ...                                     ...   \n",
              "1256   0.683  MP306     0.123  {E16D6B27-2528-4129-A5E9-5AC1FAF8889D}   \n",
              "1257   0.571  MP306     0.053  {D6110E88-C1E6-4187-9AF2-61E8C89A7664}   \n",
              "1258   0.389  MP306     0.063  {1CB7FA8E-C20A-45EE-B1CA-4DFC339F4C41}   \n",
              "1259   0.427  MP306     0.117  {4E64D19F-54BD-47E5-8F68-C55F2819280B}   \n",
              "1260   0.821  MP306     0.057  {CAD7A289-E052-4F21-9BFD-69D781919314}   \n",
              "\n",
              "      st_length_                                           geometry  \n",
              "0       0.001777  LINESTRING (28.58912 -26.67238, 28.58983 -26.6...  \n",
              "1       0.000413  LINESTRING (28.61691 -26.64753, 28.61691 -26.6...  \n",
              "2       0.000417  LINESTRING (28.50106 -26.79675, 28.50065 -26.7...  \n",
              "3       0.000514  LINESTRING (28.61367 -26.65844, 28.61417 -26.6...  \n",
              "4       0.000488  LINESTRING (28.61794 -26.63961, 28.61840 -26.6...  \n",
              "...          ...                                                ...  \n",
              "1256    0.001125  LINESTRING (28.61402 -26.64802, 28.61387 -26.6...  \n",
              "1257    0.000480  LINESTRING (28.61919 -26.64839, 28.61913 -26.6...  \n",
              "1258    0.000621  LINESTRING (28.61640 -26.64702, 28.61583 -26.6...  \n",
              "1259    0.001063  LINESTRING (28.60885 -26.65049, 28.60901 -26.6...  \n",
              "1260    0.000542  LINESTRING (28.61609 -26.65215, 28.61618 -26.6...  \n",
              "\n",
              "[1261 rows x 11 columns]"
            ]
          },
          "execution_count": 6,
          "metadata": {},
          "output_type": "execute_result"
        }
      ],
      "source": [
        "gdf"
      ]
    },
    {
      "cell_type": "code",
      "execution_count": 7,
      "metadata": {},
      "outputs": [
        {
          "name": "stdout",
          "output_type": "stream",
          "text": [
            "LINESTRING (28.616910999742913 -26.6475279999172, 28.616914999927417 -26.647114999757378)\n"
          ]
        }
      ],
      "source": [
        "geo = gdf['geometry'][1]\n",
        "print(geo)"
      ]
    },
    {
      "cell_type": "code",
      "execution_count": null,
      "metadata": {},
      "outputs": [],
      "source": [
        "dbf_col_names = dbf_data.columns.tolist()\n",
        "dbf_col_names\n"
      ]
    },
    {
      "cell_type": "code",
      "execution_count": null,
      "metadata": {},
      "outputs": [],
      "source": [
        "dbf_data.shape[0]"
      ]
    },
    {
      "cell_type": "code",
      "execution_count": null,
      "metadata": {},
      "outputs": [],
      "source": [
        "dbf_data.head(5)"
      ]
    },
    {
      "cell_type": "code",
      "execution_count": null,
      "metadata": {},
      "outputs": [],
      "source": [
        "shx_col_names = shx_data.columns.tolist()\n",
        "shx_col_names"
      ]
    },
    {
      "cell_type": "code",
      "execution_count": null,
      "metadata": {},
      "outputs": [],
      "source": [
        "shx_data.shape[0]"
      ]
    },
    {
      "cell_type": "code",
      "execution_count": null,
      "metadata": {},
      "outputs": [],
      "source": [
        "shx_data.head(5)"
      ]
    },
    {
      "cell_type": "code",
      "execution_count": 49,
      "metadata": {},
      "outputs": [
        {
          "data": {
            "text/plain": [
              "'GEOGCS[\"GCS_WGS_1984\",DATUM[\"D_WGS_1984\",SPHEROID[\"WGS_1984\",6378137.0,298.257223563]],PRIMEM[\"Greenwich\",0.0],UNIT[\"Degree\",0.0174532925199433]]'"
            ]
          },
          "execution_count": 49,
          "metadata": {},
          "output_type": "execute_result"
        }
      ],
      "source": [
        "prj_data"
      ]
    }
  ],
  "metadata": {
    "accelerator": "GPU",
    "colab": {
      "collapsed_sections": [],
      "machine_shape": "hm",
      "name": "YOLOv5 Tutorial",
      "provenance": [],
      "toc_visible": true
    },
    "kernelspec": {
      "display_name": "sentiment",
      "language": "python",
      "name": "python3"
    },
    "language_info": {
      "codemirror_mode": {
        "name": "ipython",
        "version": 3
      },
      "file_extension": ".py",
      "mimetype": "text/x-python",
      "name": "python",
      "nbconvert_exporter": "python",
      "pygments_lexer": "ipython3",
      "version": "3.8.16 (default, Jan 17 2023, 23:13:24) \n[GCC 11.2.0]"
    },
    "vscode": {
      "interpreter": {
        "hash": "925398d9a85083c1e92bdad13cffbc88a8ddce1ffb75da81b0031284ef315dce"
      }
    },
    "widgets": {
      "application/vnd.jupyter.widget-state+json": {
        "0856bea36ec148b68522ff9c9eb258d8": {
          "model_module": "@jupyter-widgets/controls",
          "model_module_version": "1.5.0",
          "model_name": "DescriptionStyleModel",
          "state": {
            "_model_module": "@jupyter-widgets/controls",
            "_model_module_version": "1.5.0",
            "_model_name": "DescriptionStyleModel",
            "_view_count": null,
            "_view_module": "@jupyter-widgets/base",
            "_view_module_version": "1.2.0",
            "_view_name": "StyleView",
            "description_width": ""
          }
        },
        "0ace3934ec6f4d36a1b3a9e086390926": {
          "model_module": "@jupyter-widgets/controls",
          "model_module_version": "1.5.0",
          "model_name": "ProgressStyleModel",
          "state": {
            "_model_module": "@jupyter-widgets/controls",
            "_model_module_version": "1.5.0",
            "_model_name": "ProgressStyleModel",
            "_view_count": null,
            "_view_module": "@jupyter-widgets/base",
            "_view_module_version": "1.2.0",
            "_view_name": "StyleView",
            "bar_color": null,
            "description_width": ""
          }
        },
        "35e03ce5090346c9ae602891470fc555": {
          "model_module": "@jupyter-widgets/controls",
          "model_module_version": "1.5.0",
          "model_name": "FloatProgressModel",
          "state": {
            "_dom_classes": [],
            "_model_module": "@jupyter-widgets/controls",
            "_model_module_version": "1.5.0",
            "_model_name": "FloatProgressModel",
            "_view_count": null,
            "_view_module": "@jupyter-widgets/controls",
            "_view_module_version": "1.5.0",
            "_view_name": "ProgressView",
            "bar_style": "success",
            "description": "",
            "description_tooltip": null,
            "layout": "IPY_MODEL_76879f6f2aa54637a7a07faeea2bd684",
            "max": 818322941,
            "min": 0,
            "orientation": "horizontal",
            "style": "IPY_MODEL_0ace3934ec6f4d36a1b3a9e086390926",
            "value": 818322941
          }
        },
        "574140e4c4bc48c9a171541a02cd0211": {
          "model_module": "@jupyter-widgets/controls",
          "model_module_version": "1.5.0",
          "model_name": "HTMLModel",
          "state": {
            "_dom_classes": [],
            "_model_module": "@jupyter-widgets/controls",
            "_model_module_version": "1.5.0",
            "_model_name": "HTMLModel",
            "_view_count": null,
            "_view_module": "@jupyter-widgets/controls",
            "_view_module_version": "1.5.0",
            "_view_name": "HTMLView",
            "description": "",
            "description_tooltip": null,
            "layout": "IPY_MODEL_60b913d755b34d638478e30705a2dde1",
            "placeholder": "​",
            "style": "IPY_MODEL_0856bea36ec148b68522ff9c9eb258d8",
            "value": "100%"
          }
        },
        "5966ba6e6f114d8c9d8d1d6b1bd4f4c7": {
          "model_module": "@jupyter-widgets/controls",
          "model_module_version": "1.5.0",
          "model_name": "DescriptionStyleModel",
          "state": {
            "_model_module": "@jupyter-widgets/controls",
            "_model_module_version": "1.5.0",
            "_model_name": "DescriptionStyleModel",
            "_view_count": null,
            "_view_module": "@jupyter-widgets/base",
            "_view_module_version": "1.2.0",
            "_view_name": "StyleView",
            "description_width": ""
          }
        },
        "60b913d755b34d638478e30705a2dde1": {
          "model_module": "@jupyter-widgets/base",
          "model_module_version": "1.2.0",
          "model_name": "LayoutModel",
          "state": {
            "_model_module": "@jupyter-widgets/base",
            "_model_module_version": "1.2.0",
            "_model_name": "LayoutModel",
            "_view_count": null,
            "_view_module": "@jupyter-widgets/base",
            "_view_module_version": "1.2.0",
            "_view_name": "LayoutView",
            "align_content": null,
            "align_items": null,
            "align_self": null,
            "border": null,
            "bottom": null,
            "display": null,
            "flex": null,
            "flex_flow": null,
            "grid_area": null,
            "grid_auto_columns": null,
            "grid_auto_flow": null,
            "grid_auto_rows": null,
            "grid_column": null,
            "grid_gap": null,
            "grid_row": null,
            "grid_template_areas": null,
            "grid_template_columns": null,
            "grid_template_rows": null,
            "height": null,
            "justify_content": null,
            "justify_items": null,
            "left": null,
            "margin": null,
            "max_height": null,
            "max_width": null,
            "min_height": null,
            "min_width": null,
            "object_fit": null,
            "object_position": null,
            "order": null,
            "overflow": null,
            "overflow_x": null,
            "overflow_y": null,
            "padding": null,
            "right": null,
            "top": null,
            "visibility": null,
            "width": null
          }
        },
        "65881db1db8a4e9c930fab9172d45143": {
          "model_module": "@jupyter-widgets/base",
          "model_module_version": "1.2.0",
          "model_name": "LayoutModel",
          "state": {
            "_model_module": "@jupyter-widgets/base",
            "_model_module_version": "1.2.0",
            "_model_name": "LayoutModel",
            "_view_count": null,
            "_view_module": "@jupyter-widgets/base",
            "_view_module_version": "1.2.0",
            "_view_name": "LayoutView",
            "align_content": null,
            "align_items": null,
            "align_self": null,
            "border": null,
            "bottom": null,
            "display": null,
            "flex": null,
            "flex_flow": null,
            "grid_area": null,
            "grid_auto_columns": null,
            "grid_auto_flow": null,
            "grid_auto_rows": null,
            "grid_column": null,
            "grid_gap": null,
            "grid_row": null,
            "grid_template_areas": null,
            "grid_template_columns": null,
            "grid_template_rows": null,
            "height": null,
            "justify_content": null,
            "justify_items": null,
            "left": null,
            "margin": null,
            "max_height": null,
            "max_width": null,
            "min_height": null,
            "min_width": null,
            "object_fit": null,
            "object_position": null,
            "order": null,
            "overflow": null,
            "overflow_x": null,
            "overflow_y": null,
            "padding": null,
            "right": null,
            "top": null,
            "visibility": null,
            "width": null
          }
        },
        "76879f6f2aa54637a7a07faeea2bd684": {
          "model_module": "@jupyter-widgets/base",
          "model_module_version": "1.2.0",
          "model_name": "LayoutModel",
          "state": {
            "_model_module": "@jupyter-widgets/base",
            "_model_module_version": "1.2.0",
            "_model_name": "LayoutModel",
            "_view_count": null,
            "_view_module": "@jupyter-widgets/base",
            "_view_module_version": "1.2.0",
            "_view_name": "LayoutView",
            "align_content": null,
            "align_items": null,
            "align_self": null,
            "border": null,
            "bottom": null,
            "display": null,
            "flex": null,
            "flex_flow": null,
            "grid_area": null,
            "grid_auto_columns": null,
            "grid_auto_flow": null,
            "grid_auto_rows": null,
            "grid_column": null,
            "grid_gap": null,
            "grid_row": null,
            "grid_template_areas": null,
            "grid_template_columns": null,
            "grid_template_rows": null,
            "height": null,
            "justify_content": null,
            "justify_items": null,
            "left": null,
            "margin": null,
            "max_height": null,
            "max_width": null,
            "min_height": null,
            "min_width": null,
            "object_fit": null,
            "object_position": null,
            "order": null,
            "overflow": null,
            "overflow_x": null,
            "overflow_y": null,
            "padding": null,
            "right": null,
            "top": null,
            "visibility": null,
            "width": null
          }
        },
        "9b8caa3522fc4cbab31e13b5dfc7808d": {
          "model_module": "@jupyter-widgets/controls",
          "model_module_version": "1.5.0",
          "model_name": "HBoxModel",
          "state": {
            "_dom_classes": [],
            "_model_module": "@jupyter-widgets/controls",
            "_model_module_version": "1.5.0",
            "_model_name": "HBoxModel",
            "_view_count": null,
            "_view_module": "@jupyter-widgets/controls",
            "_view_module_version": "1.5.0",
            "_view_name": "HBoxView",
            "box_style": "",
            "children": [
              "IPY_MODEL_574140e4c4bc48c9a171541a02cd0211",
              "IPY_MODEL_35e03ce5090346c9ae602891470fc555",
              "IPY_MODEL_c942c208e72d46568b476bb0f2d75496"
            ],
            "layout": "IPY_MODEL_65881db1db8a4e9c930fab9172d45143"
          }
        },
        "c942c208e72d46568b476bb0f2d75496": {
          "model_module": "@jupyter-widgets/controls",
          "model_module_version": "1.5.0",
          "model_name": "HTMLModel",
          "state": {
            "_dom_classes": [],
            "_model_module": "@jupyter-widgets/controls",
            "_model_module_version": "1.5.0",
            "_model_name": "HTMLModel",
            "_view_count": null,
            "_view_module": "@jupyter-widgets/controls",
            "_view_module_version": "1.5.0",
            "_view_name": "HTMLView",
            "description": "",
            "description_tooltip": null,
            "layout": "IPY_MODEL_d6b7a2243e0c4beca714d99dceec23d6",
            "placeholder": "​",
            "style": "IPY_MODEL_5966ba6e6f114d8c9d8d1d6b1bd4f4c7",
            "value": " 780M/780M [02:19&lt;00:00, 6.24MB/s]"
          }
        },
        "d6b7a2243e0c4beca714d99dceec23d6": {
          "model_module": "@jupyter-widgets/base",
          "model_module_version": "1.2.0",
          "model_name": "LayoutModel",
          "state": {
            "_model_module": "@jupyter-widgets/base",
            "_model_module_version": "1.2.0",
            "_model_name": "LayoutModel",
            "_view_count": null,
            "_view_module": "@jupyter-widgets/base",
            "_view_module_version": "1.2.0",
            "_view_name": "LayoutView",
            "align_content": null,
            "align_items": null,
            "align_self": null,
            "border": null,
            "bottom": null,
            "display": null,
            "flex": null,
            "flex_flow": null,
            "grid_area": null,
            "grid_auto_columns": null,
            "grid_auto_flow": null,
            "grid_auto_rows": null,
            "grid_column": null,
            "grid_gap": null,
            "grid_row": null,
            "grid_template_areas": null,
            "grid_template_columns": null,
            "grid_template_rows": null,
            "height": null,
            "justify_content": null,
            "justify_items": null,
            "left": null,
            "margin": null,
            "max_height": null,
            "max_width": null,
            "min_height": null,
            "min_width": null,
            "object_fit": null,
            "object_position": null,
            "order": null,
            "overflow": null,
            "overflow_x": null,
            "overflow_y": null,
            "padding": null,
            "right": null,
            "top": null,
            "visibility": null,
            "width": null
          }
        }
      }
    }
  },
  "nbformat": 4,
  "nbformat_minor": 0
}
